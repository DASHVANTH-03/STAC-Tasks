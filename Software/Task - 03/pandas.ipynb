{
 "cells": [
  {
   "cell_type": "code",
   "execution_count": null,
   "id": "b55356f5",
   "metadata": {},
   "outputs": [],
   "source": [
    "import pandas as pd"
   ]
  },
  {
   "cell_type": "markdown",
   "id": "551b7c42",
   "metadata": {},
   "source": [
    "# BASICS"
   ]
  },
  {
   "cell_type": "markdown",
   "id": "bb9d7a20",
   "metadata": {},
   "source": [
    "## Series"
   ]
  },
  {
   "cell_type": "code",
   "execution_count": 28,
   "id": "e49ddbef",
   "metadata": {},
   "outputs": [
    {
     "data": {
      "text/plain": [
       "(0    1.0\n",
       " 1    3.0\n",
       " 2    5.0\n",
       " 3    NaN\n",
       " 4    6.0\n",
       " 5    8.0\n",
       " dtype: float64,\n",
       " 0    1\n",
       " 1    3\n",
       " 2    5\n",
       " 3    7\n",
       " 4    9\n",
       " dtype: int64,\n",
       " a    1\n",
       " b    3\n",
       " c    5\n",
       " d    7\n",
       " e    9\n",
       " dtype: int64,\n",
       " a    1\n",
       " b    2\n",
       " c    3\n",
       " d    4\n",
       " dtype: int64)"
      ]
     },
     "execution_count": 28,
     "metadata": {},
     "output_type": "execute_result"
    }
   ],
   "source": [
    "s1 = pd.Series([1, 3, 5, np.nan, 6, 8])\n",
    "s2 = pd.Series(range(1, 10, 2))\n",
    "s3 = pd.Series(range(1, 10, 2), list(map(chr, range(97, 97+len(s2)))))\n",
    "s4 = pd.Series({'a': 1, 'b': 2, 'c': 3, 'd': 4})\n",
    "s1,s2,s3,s4"
   ]
  },
  {
   "cell_type": "markdown",
   "id": "6e582701",
   "metadata": {},
   "source": [
    "## Dataframe"
   ]
  },
  {
   "cell_type": "code",
   "execution_count": null,
   "id": "64baff53",
   "metadata": {},
   "outputs": [],
   "source": [
    "df = pd.DataFrame({'A': [1, 2, 3], 'B': [4.0, 5.5, 6.1]})"
   ]
  },
  {
   "cell_type": "code",
   "execution_count": null,
   "id": "4c99e370",
   "metadata": {},
   "outputs": [
    {
     "ename": "TypeError",
     "evalue": "read_csv() got an unexpected keyword argument 'index'",
     "output_type": "error",
     "traceback": [
      "\u001b[31m---------------------------------------------------------------------------\u001b[39m",
      "\u001b[31mTypeError\u001b[39m                                 Traceback (most recent call last)",
      "\u001b[36mCell\u001b[39m\u001b[36m \u001b[39m\u001b[32mIn[17]\u001b[39m\u001b[32m, line 1\u001b[39m\n\u001b[32m----> \u001b[39m\u001b[32m1\u001b[39m df = \u001b[43mpd\u001b[49m\u001b[43m.\u001b[49m\u001b[43mread_csv\u001b[49m\u001b[43m(\u001b[49m\u001b[33;43m'\u001b[39;49m\u001b[33;43mcovid_19_data.csv\u001b[39;49m\u001b[33;43m'\u001b[39;49m\u001b[43m,\u001b[49m\u001b[43mindex\u001b[49m\u001b[43m \u001b[49m\u001b[43m=\u001b[49m\u001b[43m \u001b[49m\u001b[43mdf\u001b[49m\u001b[43m[\u001b[49m\u001b[33;43m'\u001b[39;49m\u001b[33;43mSNo\u001b[39;49m\u001b[33;43m'\u001b[39;49m\u001b[43m]\u001b[49m\u001b[43m)\u001b[49m\n",
      "\u001b[31mTypeError\u001b[39m: read_csv() got an unexpected keyword argument 'index'"
     ]
    }
   ],
   "source": [
    "df = pd.read_csv('covid_19_data.csv')"
   ]
  },
  {
   "cell_type": "code",
   "execution_count": 20,
   "id": "c955c7f6",
   "metadata": {},
   "outputs": [],
   "source": [
    "df.index = df['SNo']"
   ]
  },
  {
   "cell_type": "code",
   "execution_count": 21,
   "id": "d998a05e",
   "metadata": {},
   "outputs": [
    {
     "data": {
      "application/vnd.microsoft.datawrangler.viewer.v0+json": {
       "columns": [
        {
         "name": "SNo",
         "rawType": "int64",
         "type": "integer"
        },
        {
         "name": "SNo",
         "rawType": "int64",
         "type": "integer"
        },
        {
         "name": "ObservationDate",
         "rawType": "object",
         "type": "string"
        },
        {
         "name": "Province/State",
         "rawType": "object",
         "type": "unknown"
        },
        {
         "name": "Country/Region",
         "rawType": "object",
         "type": "string"
        },
        {
         "name": "Last Update",
         "rawType": "object",
         "type": "string"
        },
        {
         "name": "Confirmed",
         "rawType": "float64",
         "type": "float"
        },
        {
         "name": "Deaths",
         "rawType": "float64",
         "type": "float"
        },
        {
         "name": "Recovered",
         "rawType": "float64",
         "type": "float"
        }
       ],
       "ref": "1fb84ce6-93f9-4e3e-bb73-11174516a669",
       "rows": [
        [
         "1",
         "1",
         "01/22/2020",
         "Anhui",
         "Mainland China",
         "1/22/2020 17:00",
         "1.0",
         "0.0",
         "0.0"
        ],
        [
         "2",
         "2",
         "01/22/2020",
         "Beijing",
         "Mainland China",
         "1/22/2020 17:00",
         "14.0",
         "0.0",
         "0.0"
        ],
        [
         "3",
         "3",
         "01/22/2020",
         "Chongqing",
         "Mainland China",
         "1/22/2020 17:00",
         "6.0",
         "0.0",
         "0.0"
        ],
        [
         "4",
         "4",
         "01/22/2020",
         "Fujian",
         "Mainland China",
         "1/22/2020 17:00",
         "1.0",
         "0.0",
         "0.0"
        ],
        [
         "5",
         "5",
         "01/22/2020",
         "Gansu",
         "Mainland China",
         "1/22/2020 17:00",
         "0.0",
         "0.0",
         "0.0"
        ],
        [
         "6",
         "6",
         "01/22/2020",
         "Guangdong",
         "Mainland China",
         "1/22/2020 17:00",
         "26.0",
         "0.0",
         "0.0"
        ],
        [
         "7",
         "7",
         "01/22/2020",
         "Guangxi",
         "Mainland China",
         "1/22/2020 17:00",
         "2.0",
         "0.0",
         "0.0"
        ],
        [
         "8",
         "8",
         "01/22/2020",
         "Guizhou",
         "Mainland China",
         "1/22/2020 17:00",
         "1.0",
         "0.0",
         "0.0"
        ],
        [
         "9",
         "9",
         "01/22/2020",
         "Hainan",
         "Mainland China",
         "1/22/2020 17:00",
         "4.0",
         "0.0",
         "0.0"
        ],
        [
         "10",
         "10",
         "01/22/2020",
         "Hebei",
         "Mainland China",
         "1/22/2020 17:00",
         "1.0",
         "0.0",
         "0.0"
        ],
        [
         "11",
         "11",
         "01/22/2020",
         "Heilongjiang",
         "Mainland China",
         "1/22/2020 17:00",
         "0.0",
         "0.0",
         "0.0"
        ],
        [
         "12",
         "12",
         "01/22/2020",
         "Henan",
         "Mainland China",
         "1/22/2020 17:00",
         "5.0",
         "0.0",
         "0.0"
        ],
        [
         "13",
         "13",
         "01/22/2020",
         "Hong Kong",
         "Hong Kong",
         "1/22/2020 17:00",
         "0.0",
         "0.0",
         "0.0"
        ],
        [
         "14",
         "14",
         "01/22/2020",
         "Hubei",
         "Mainland China",
         "1/22/2020 17:00",
         "444.0",
         "17.0",
         "28.0"
        ],
        [
         "15",
         "15",
         "01/22/2020",
         "Hunan",
         "Mainland China",
         "1/22/2020 17:00",
         "4.0",
         "0.0",
         "0.0"
        ],
        [
         "16",
         "16",
         "01/22/2020",
         "Inner Mongolia",
         "Mainland China",
         "1/22/2020 17:00",
         "0.0",
         "0.0",
         "0.0"
        ],
        [
         "17",
         "17",
         "01/22/2020",
         "Jiangsu",
         "Mainland China",
         "1/22/2020 17:00",
         "1.0",
         "0.0",
         "0.0"
        ],
        [
         "18",
         "18",
         "01/22/2020",
         "Jiangxi",
         "Mainland China",
         "1/22/2020 17:00",
         "2.0",
         "0.0",
         "0.0"
        ],
        [
         "19",
         "19",
         "01/22/2020",
         "Jilin",
         "Mainland China",
         "1/22/2020 17:00",
         "0.0",
         "0.0",
         "0.0"
        ],
        [
         "20",
         "20",
         "01/22/2020",
         "Liaoning",
         "Mainland China",
         "1/22/2020 17:00",
         "2.0",
         "0.0",
         "0.0"
        ],
        [
         "21",
         "21",
         "01/22/2020",
         "Macau",
         "Macau",
         "1/22/2020 17:00",
         "1.0",
         "0.0",
         "0.0"
        ],
        [
         "22",
         "22",
         "01/22/2020",
         "Ningxia",
         "Mainland China",
         "1/22/2020 17:00",
         "1.0",
         "0.0",
         "0.0"
        ],
        [
         "23",
         "23",
         "01/22/2020",
         "Qinghai",
         "Mainland China",
         "1/22/2020 17:00",
         "0.0",
         "0.0",
         "0.0"
        ],
        [
         "24",
         "24",
         "01/22/2020",
         "Shaanxi",
         "Mainland China",
         "1/22/2020 17:00",
         "0.0",
         "0.0",
         "0.0"
        ],
        [
         "25",
         "25",
         "01/22/2020",
         "Shandong",
         "Mainland China",
         "1/22/2020 17:00",
         "2.0",
         "0.0",
         "0.0"
        ],
        [
         "26",
         "26",
         "01/22/2020",
         "Shanghai",
         "Mainland China",
         "1/22/2020 17:00",
         "9.0",
         "0.0",
         "0.0"
        ],
        [
         "27",
         "27",
         "01/22/2020",
         "Shanxi",
         "Mainland China",
         "1/22/2020 17:00",
         "1.0",
         "0.0",
         "0.0"
        ],
        [
         "28",
         "28",
         "01/22/2020",
         "Sichuan",
         "Mainland China",
         "1/22/2020 17:00",
         "5.0",
         "0.0",
         "0.0"
        ],
        [
         "29",
         "29",
         "01/22/2020",
         "Taiwan",
         "Taiwan",
         "1/22/2020 17:00",
         "1.0",
         "0.0",
         "0.0"
        ],
        [
         "30",
         "30",
         "01/22/2020",
         "Tianjin",
         "Mainland China",
         "1/22/2020 17:00",
         "4.0",
         "0.0",
         "0.0"
        ],
        [
         "31",
         "31",
         "01/22/2020",
         "Tibet",
         "Mainland China",
         "1/22/2020 17:00",
         "0.0",
         "0.0",
         "0.0"
        ],
        [
         "32",
         "32",
         "01/22/2020",
         "Washington",
         "US",
         "1/22/2020 17:00",
         "1.0",
         "0.0",
         "0.0"
        ],
        [
         "33",
         "33",
         "01/22/2020",
         "Xinjiang",
         "Mainland China",
         "1/22/2020 17:00",
         "0.0",
         "0.0",
         "0.0"
        ],
        [
         "34",
         "34",
         "01/22/2020",
         "Yunnan",
         "Mainland China",
         "1/22/2020 17:00",
         "1.0",
         "0.0",
         "0.0"
        ],
        [
         "35",
         "35",
         "01/22/2020",
         "Zhejiang",
         "Mainland China",
         "1/22/2020 17:00",
         "10.0",
         "0.0",
         "0.0"
        ],
        [
         "36",
         "36",
         "01/22/2020",
         null,
         "Japan",
         "1/22/2020 17:00",
         "2.0",
         "0.0",
         "0.0"
        ],
        [
         "37",
         "37",
         "01/22/2020",
         null,
         "Thailand",
         "1/22/2020 17:00",
         "4.0",
         "0.0",
         "2.0"
        ],
        [
         "38",
         "38",
         "01/22/2020",
         null,
         "South Korea",
         "1/22/2020 17:00",
         "1.0",
         "0.0",
         "0.0"
        ],
        [
         "39",
         "39",
         "01/22/2020",
         "Unknown",
         "China",
         "1/22/2020 17:00",
         "0.0",
         "0.0",
         "0.0"
        ],
        [
         "40",
         "40",
         "01/22/2020",
         null,
         "Kiribati",
         "1/22/2020 17:00",
         "0.0",
         "0.0",
         "0.0"
        ],
        [
         "41",
         "41",
         "01/23/2020",
         "Anhui",
         "Mainland China",
         "1/23/20 17:00",
         "9.0",
         "0.0",
         "0.0"
        ],
        [
         "42",
         "42",
         "01/23/2020",
         "Beijing",
         "Mainland China",
         "1/23/20 17:00",
         "22.0",
         "0.0",
         "0.0"
        ],
        [
         "43",
         "43",
         "01/23/2020",
         "Chongqing",
         "Mainland China",
         "1/23/20 17:00",
         "9.0",
         "0.0",
         "0.0"
        ],
        [
         "44",
         "44",
         "01/23/2020",
         "Fujian",
         "Mainland China",
         "1/23/20 17:00",
         "5.0",
         "0.0",
         "0.0"
        ],
        [
         "45",
         "45",
         "01/23/2020",
         "Gansu",
         "Mainland China",
         "1/23/20 17:00",
         "2.0",
         "0.0",
         "0.0"
        ],
        [
         "46",
         "46",
         "01/23/2020",
         "Guangdong",
         "Mainland China",
         "1/23/20 17:00",
         "32.0",
         "0.0",
         "2.0"
        ],
        [
         "47",
         "47",
         "01/23/2020",
         "Guangxi",
         "Mainland China",
         "1/23/20 17:00",
         "5.0",
         "0.0",
         "0.0"
        ],
        [
         "48",
         "48",
         "01/23/2020",
         "Guizhou",
         "Mainland China",
         "1/23/20 17:00",
         "3.0",
         "0.0",
         "0.0"
        ],
        [
         "49",
         "49",
         "01/23/2020",
         "Hainan",
         "Mainland China",
         "1/23/20 17:00",
         "5.0",
         "0.0",
         "0.0"
        ],
        [
         "50",
         "50",
         "01/23/2020",
         "Hubei",
         "Mainland China",
         "1/23/20 17:00",
         "444.0",
         "17.0",
         "28.0"
        ]
       ],
       "shape": {
        "columns": 8,
        "rows": 306429
       }
      },
      "text/html": [
       "<div>\n",
       "<style scoped>\n",
       "    .dataframe tbody tr th:only-of-type {\n",
       "        vertical-align: middle;\n",
       "    }\n",
       "\n",
       "    .dataframe tbody tr th {\n",
       "        vertical-align: top;\n",
       "    }\n",
       "\n",
       "    .dataframe thead th {\n",
       "        text-align: right;\n",
       "    }\n",
       "</style>\n",
       "<table border=\"1\" class=\"dataframe\">\n",
       "  <thead>\n",
       "    <tr style=\"text-align: right;\">\n",
       "      <th></th>\n",
       "      <th>SNo</th>\n",
       "      <th>ObservationDate</th>\n",
       "      <th>Province/State</th>\n",
       "      <th>Country/Region</th>\n",
       "      <th>Last Update</th>\n",
       "      <th>Confirmed</th>\n",
       "      <th>Deaths</th>\n",
       "      <th>Recovered</th>\n",
       "    </tr>\n",
       "    <tr>\n",
       "      <th>SNo</th>\n",
       "      <th></th>\n",
       "      <th></th>\n",
       "      <th></th>\n",
       "      <th></th>\n",
       "      <th></th>\n",
       "      <th></th>\n",
       "      <th></th>\n",
       "      <th></th>\n",
       "    </tr>\n",
       "  </thead>\n",
       "  <tbody>\n",
       "    <tr>\n",
       "      <th>1</th>\n",
       "      <td>1</td>\n",
       "      <td>01/22/2020</td>\n",
       "      <td>Anhui</td>\n",
       "      <td>Mainland China</td>\n",
       "      <td>1/22/2020 17:00</td>\n",
       "      <td>1.0</td>\n",
       "      <td>0.0</td>\n",
       "      <td>0.0</td>\n",
       "    </tr>\n",
       "    <tr>\n",
       "      <th>2</th>\n",
       "      <td>2</td>\n",
       "      <td>01/22/2020</td>\n",
       "      <td>Beijing</td>\n",
       "      <td>Mainland China</td>\n",
       "      <td>1/22/2020 17:00</td>\n",
       "      <td>14.0</td>\n",
       "      <td>0.0</td>\n",
       "      <td>0.0</td>\n",
       "    </tr>\n",
       "    <tr>\n",
       "      <th>3</th>\n",
       "      <td>3</td>\n",
       "      <td>01/22/2020</td>\n",
       "      <td>Chongqing</td>\n",
       "      <td>Mainland China</td>\n",
       "      <td>1/22/2020 17:00</td>\n",
       "      <td>6.0</td>\n",
       "      <td>0.0</td>\n",
       "      <td>0.0</td>\n",
       "    </tr>\n",
       "    <tr>\n",
       "      <th>4</th>\n",
       "      <td>4</td>\n",
       "      <td>01/22/2020</td>\n",
       "      <td>Fujian</td>\n",
       "      <td>Mainland China</td>\n",
       "      <td>1/22/2020 17:00</td>\n",
       "      <td>1.0</td>\n",
       "      <td>0.0</td>\n",
       "      <td>0.0</td>\n",
       "    </tr>\n",
       "    <tr>\n",
       "      <th>5</th>\n",
       "      <td>5</td>\n",
       "      <td>01/22/2020</td>\n",
       "      <td>Gansu</td>\n",
       "      <td>Mainland China</td>\n",
       "      <td>1/22/2020 17:00</td>\n",
       "      <td>0.0</td>\n",
       "      <td>0.0</td>\n",
       "      <td>0.0</td>\n",
       "    </tr>\n",
       "    <tr>\n",
       "      <th>...</th>\n",
       "      <td>...</td>\n",
       "      <td>...</td>\n",
       "      <td>...</td>\n",
       "      <td>...</td>\n",
       "      <td>...</td>\n",
       "      <td>...</td>\n",
       "      <td>...</td>\n",
       "      <td>...</td>\n",
       "    </tr>\n",
       "    <tr>\n",
       "      <th>306425</th>\n",
       "      <td>306425</td>\n",
       "      <td>05/29/2021</td>\n",
       "      <td>Zaporizhia Oblast</td>\n",
       "      <td>Ukraine</td>\n",
       "      <td>2021-05-30 04:20:55</td>\n",
       "      <td>102641.0</td>\n",
       "      <td>2335.0</td>\n",
       "      <td>95289.0</td>\n",
       "    </tr>\n",
       "    <tr>\n",
       "      <th>306426</th>\n",
       "      <td>306426</td>\n",
       "      <td>05/29/2021</td>\n",
       "      <td>Zeeland</td>\n",
       "      <td>Netherlands</td>\n",
       "      <td>2021-05-30 04:20:55</td>\n",
       "      <td>29147.0</td>\n",
       "      <td>245.0</td>\n",
       "      <td>0.0</td>\n",
       "    </tr>\n",
       "    <tr>\n",
       "      <th>306427</th>\n",
       "      <td>306427</td>\n",
       "      <td>05/29/2021</td>\n",
       "      <td>Zhejiang</td>\n",
       "      <td>Mainland China</td>\n",
       "      <td>2021-05-30 04:20:55</td>\n",
       "      <td>1364.0</td>\n",
       "      <td>1.0</td>\n",
       "      <td>1324.0</td>\n",
       "    </tr>\n",
       "    <tr>\n",
       "      <th>306428</th>\n",
       "      <td>306428</td>\n",
       "      <td>05/29/2021</td>\n",
       "      <td>Zhytomyr Oblast</td>\n",
       "      <td>Ukraine</td>\n",
       "      <td>2021-05-30 04:20:55</td>\n",
       "      <td>87550.0</td>\n",
       "      <td>1738.0</td>\n",
       "      <td>83790.0</td>\n",
       "    </tr>\n",
       "    <tr>\n",
       "      <th>306429</th>\n",
       "      <td>306429</td>\n",
       "      <td>05/29/2021</td>\n",
       "      <td>Zuid-Holland</td>\n",
       "      <td>Netherlands</td>\n",
       "      <td>2021-05-30 04:20:55</td>\n",
       "      <td>391559.0</td>\n",
       "      <td>4252.0</td>\n",
       "      <td>0.0</td>\n",
       "    </tr>\n",
       "  </tbody>\n",
       "</table>\n",
       "<p>306429 rows × 8 columns</p>\n",
       "</div>"
      ],
      "text/plain": [
       "           SNo ObservationDate     Province/State  Country/Region  \\\n",
       "SNo                                                                 \n",
       "1            1      01/22/2020              Anhui  Mainland China   \n",
       "2            2      01/22/2020            Beijing  Mainland China   \n",
       "3            3      01/22/2020          Chongqing  Mainland China   \n",
       "4            4      01/22/2020             Fujian  Mainland China   \n",
       "5            5      01/22/2020              Gansu  Mainland China   \n",
       "...        ...             ...                ...             ...   \n",
       "306425  306425      05/29/2021  Zaporizhia Oblast         Ukraine   \n",
       "306426  306426      05/29/2021            Zeeland     Netherlands   \n",
       "306427  306427      05/29/2021           Zhejiang  Mainland China   \n",
       "306428  306428      05/29/2021    Zhytomyr Oblast         Ukraine   \n",
       "306429  306429      05/29/2021       Zuid-Holland     Netherlands   \n",
       "\n",
       "                Last Update  Confirmed  Deaths  Recovered  \n",
       "SNo                                                        \n",
       "1           1/22/2020 17:00        1.0     0.0        0.0  \n",
       "2           1/22/2020 17:00       14.0     0.0        0.0  \n",
       "3           1/22/2020 17:00        6.0     0.0        0.0  \n",
       "4           1/22/2020 17:00        1.0     0.0        0.0  \n",
       "5           1/22/2020 17:00        0.0     0.0        0.0  \n",
       "...                     ...        ...     ...        ...  \n",
       "306425  2021-05-30 04:20:55   102641.0  2335.0    95289.0  \n",
       "306426  2021-05-30 04:20:55    29147.0   245.0        0.0  \n",
       "306427  2021-05-30 04:20:55     1364.0     1.0     1324.0  \n",
       "306428  2021-05-30 04:20:55    87550.0  1738.0    83790.0  \n",
       "306429  2021-05-30 04:20:55   391559.0  4252.0        0.0  \n",
       "\n",
       "[306429 rows x 8 columns]"
      ]
     },
     "execution_count": 21,
     "metadata": {},
     "output_type": "execute_result"
    }
   ],
   "source": [
    "df"
   ]
  },
  {
   "cell_type": "code",
   "execution_count": 15,
   "id": "756000d2",
   "metadata": {},
   "outputs": [
    {
     "name": "stdout",
     "output_type": "stream",
     "text": [
      "<class 'pandas.core.frame.DataFrame'>\n",
      "RangeIndex: 306429 entries, 0 to 306428\n",
      "Data columns (total 8 columns):\n",
      " #   Column           Non-Null Count   Dtype  \n",
      "---  ------           --------------   -----  \n",
      " 0   SNo              306429 non-null  int64  \n",
      " 1   ObservationDate  306429 non-null  object \n",
      " 2   Province/State   228326 non-null  object \n",
      " 3   Country/Region   306429 non-null  object \n",
      " 4   Last Update      306429 non-null  object \n",
      " 5   Confirmed        306429 non-null  float64\n",
      " 6   Deaths           306429 non-null  float64\n",
      " 7   Recovered        306429 non-null  float64\n",
      "dtypes: float64(3), int64(1), object(4)\n",
      "memory usage: 18.7+ MB\n"
     ]
    }
   ],
   "source": [
    "df.info()"
   ]
  },
  {
   "cell_type": "code",
   "execution_count": 11,
   "id": "c74138f9",
   "metadata": {},
   "outputs": [
    {
     "data": {
      "application/vnd.microsoft.datawrangler.viewer.v0+json": {
       "columns": [
        {
         "name": "index",
         "rawType": "object",
         "type": "string"
        },
        {
         "name": "SNo",
         "rawType": "float64",
         "type": "float"
        },
        {
         "name": "Confirmed",
         "rawType": "float64",
         "type": "float"
        },
        {
         "name": "Deaths",
         "rawType": "float64",
         "type": "float"
        },
        {
         "name": "Recovered",
         "rawType": "float64",
         "type": "float"
        }
       ],
       "ref": "31874b1b-6968-40fd-9305-95050a0c6064",
       "rows": [
        [
         "count",
         "306429.0",
         "306429.0",
         "306429.0",
         "306429.0"
        ],
        [
         "mean",
         "153215.0",
         "85670.91155863185",
         "2036.4032679674574",
         "50420.28630449468"
        ],
        [
         "std",
         "88458.57715620345",
         "277551.60404315015",
         "6410.9380477066725",
         "201512.44783805608"
        ],
        [
         "min",
         "1.0",
         "-302844.0",
         "-178.0",
         "-854405.0"
        ],
        [
         "25%",
         "76608.0",
         "1042.0",
         "13.0",
         "11.0"
        ],
        [
         "50%",
         "153215.0",
         "10375.0",
         "192.0",
         "1751.0"
        ],
        [
         "75%",
         "229822.0",
         "50752.0",
         "1322.0",
         "20270.0"
        ],
        [
         "max",
         "306429.0",
         "5863138.0",
         "112385.0",
         "6399531.0"
        ]
       ],
       "shape": {
        "columns": 4,
        "rows": 8
       }
      },
      "text/html": [
       "<div>\n",
       "<style scoped>\n",
       "    .dataframe tbody tr th:only-of-type {\n",
       "        vertical-align: middle;\n",
       "    }\n",
       "\n",
       "    .dataframe tbody tr th {\n",
       "        vertical-align: top;\n",
       "    }\n",
       "\n",
       "    .dataframe thead th {\n",
       "        text-align: right;\n",
       "    }\n",
       "</style>\n",
       "<table border=\"1\" class=\"dataframe\">\n",
       "  <thead>\n",
       "    <tr style=\"text-align: right;\">\n",
       "      <th></th>\n",
       "      <th>SNo</th>\n",
       "      <th>Confirmed</th>\n",
       "      <th>Deaths</th>\n",
       "      <th>Recovered</th>\n",
       "    </tr>\n",
       "  </thead>\n",
       "  <tbody>\n",
       "    <tr>\n",
       "      <th>count</th>\n",
       "      <td>306429.000000</td>\n",
       "      <td>3.064290e+05</td>\n",
       "      <td>306429.000000</td>\n",
       "      <td>3.064290e+05</td>\n",
       "    </tr>\n",
       "    <tr>\n",
       "      <th>mean</th>\n",
       "      <td>153215.000000</td>\n",
       "      <td>8.567091e+04</td>\n",
       "      <td>2036.403268</td>\n",
       "      <td>5.042029e+04</td>\n",
       "    </tr>\n",
       "    <tr>\n",
       "      <th>std</th>\n",
       "      <td>88458.577156</td>\n",
       "      <td>2.775516e+05</td>\n",
       "      <td>6410.938048</td>\n",
       "      <td>2.015124e+05</td>\n",
       "    </tr>\n",
       "    <tr>\n",
       "      <th>min</th>\n",
       "      <td>1.000000</td>\n",
       "      <td>-3.028440e+05</td>\n",
       "      <td>-178.000000</td>\n",
       "      <td>-8.544050e+05</td>\n",
       "    </tr>\n",
       "    <tr>\n",
       "      <th>25%</th>\n",
       "      <td>76608.000000</td>\n",
       "      <td>1.042000e+03</td>\n",
       "      <td>13.000000</td>\n",
       "      <td>1.100000e+01</td>\n",
       "    </tr>\n",
       "    <tr>\n",
       "      <th>50%</th>\n",
       "      <td>153215.000000</td>\n",
       "      <td>1.037500e+04</td>\n",
       "      <td>192.000000</td>\n",
       "      <td>1.751000e+03</td>\n",
       "    </tr>\n",
       "    <tr>\n",
       "      <th>75%</th>\n",
       "      <td>229822.000000</td>\n",
       "      <td>5.075200e+04</td>\n",
       "      <td>1322.000000</td>\n",
       "      <td>2.027000e+04</td>\n",
       "    </tr>\n",
       "    <tr>\n",
       "      <th>max</th>\n",
       "      <td>306429.000000</td>\n",
       "      <td>5.863138e+06</td>\n",
       "      <td>112385.000000</td>\n",
       "      <td>6.399531e+06</td>\n",
       "    </tr>\n",
       "  </tbody>\n",
       "</table>\n",
       "</div>"
      ],
      "text/plain": [
       "                 SNo     Confirmed         Deaths     Recovered\n",
       "count  306429.000000  3.064290e+05  306429.000000  3.064290e+05\n",
       "mean   153215.000000  8.567091e+04    2036.403268  5.042029e+04\n",
       "std     88458.577156  2.775516e+05    6410.938048  2.015124e+05\n",
       "min         1.000000 -3.028440e+05    -178.000000 -8.544050e+05\n",
       "25%     76608.000000  1.042000e+03      13.000000  1.100000e+01\n",
       "50%    153215.000000  1.037500e+04     192.000000  1.751000e+03\n",
       "75%    229822.000000  5.075200e+04    1322.000000  2.027000e+04\n",
       "max    306429.000000  5.863138e+06  112385.000000  6.399531e+06"
      ]
     },
     "execution_count": 11,
     "metadata": {},
     "output_type": "execute_result"
    }
   ],
   "source": [
    "df.describe()"
   ]
  },
  {
   "cell_type": "code",
   "execution_count": null,
   "id": "71ca23a7",
   "metadata": {},
   "outputs": [],
   "source": []
  }
 ],
 "metadata": {
  "kernelspec": {
   "display_name": ".venv (3.12.11)",
   "language": "python",
   "name": "python3"
  },
  "language_info": {
   "codemirror_mode": {
    "name": "ipython",
    "version": 3
   },
   "file_extension": ".py",
   "mimetype": "text/x-python",
   "name": "python",
   "nbconvert_exporter": "python",
   "pygments_lexer": "ipython3",
   "version": "3.12.11"
  }
 },
 "nbformat": 4,
 "nbformat_minor": 5
}
